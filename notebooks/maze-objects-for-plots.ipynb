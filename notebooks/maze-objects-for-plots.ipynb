{
 "cells": [
  {
   "cell_type": "markdown",
   "id": "2a0f1851-9f66-4470-b81c-f94b7d0890b1",
   "metadata": {},
   "source": [
    "# Maze objects for plots\n",
    "Taking the maze game assets I made (pure lines and gems) and turning them into small images with background textures to be placed on scatter plots."
   ]
  },
  {
   "cell_type": "code",
   "execution_count": null,
   "id": "0f9469f7-bbe7-456f-935a-f6756fa6a3b7",
   "metadata": {},
   "outputs": [],
   "source": [
    "import numpy as np\n",
    "import os\n",
    "from IPython.display import display\n",
    "from PIL import Image as PILImage"
   ]
  },
  {
   "cell_type": "code",
   "execution_count": null,
   "id": "aaa1f8be-a9ea-4032-bb1c-c4747d7e2400",
   "metadata": {},
   "outputs": [],
   "source": [
    "PATH = '../procgenAISC/procgen/data/assets/kenney/Items'\n",
    "PATH_BACKGROUND = '../procgenAISC/procgen/data/assets/topdown_backgrounds/backgrounddetailed2.png'\n",
    "PATH_OUT = '../maze-objects'\n",
    "MAZE_SIZE = 5  # the grid size\n",
    "MAZE_PIXELS_HUMAN = 512\n",
    "MAZE_PIXELS_AGENT = 64"
   ]
  },
  {
   "cell_type": "code",
   "execution_count": null,
   "id": "acb487dd-1a41-4159-88cd-6742f66933ca",
   "metadata": {},
   "outputs": [],
   "source": [
    "objects = sorted([f for f in os.listdir(PATH) if f.startswith('pure')])"
   ]
  },
  {
   "cell_type": "markdown",
   "id": "384749b3-eb73-47e8-a309-222aee63b2d0",
   "metadata": {},
   "source": [
    "## On black background\n",
    "Placing the objects on black background and saving them there"
   ]
  },
  {
   "cell_type": "code",
   "execution_count": null,
   "id": "51d4b2fd-9507-442a-a3f7-2a7b92c0660c",
   "metadata": {},
   "outputs": [],
   "source": [
    "i = 6\n",
    "path = os.path.join(PATH, objects[i])\n",
    "img = PILImage.open(path)\n",
    "print(img.size)\n",
    "display(img)"
   ]
  },
  {
   "cell_type": "code",
   "execution_count": null,
   "id": "9280cbd3-287c-497c-851b-984e929f43a8",
   "metadata": {},
   "outputs": [],
   "source": [
    "def place_on_black_background(img):\n",
    "    background = PILImage.new(\"RGBA\", img.size, (0, 0, 0, 255))\n",
    "    if img.mode != 'RGBA':\n",
    "        img = img.convert(\"RGBA\")\n",
    "    background.paste(img, (0, 0), img)\n",
    "    return background"
   ]
  },
  {
   "cell_type": "code",
   "execution_count": null,
   "id": "3eeb6a62-b0e5-472b-8d94-484d929ce295",
   "metadata": {},
   "outputs": [],
   "source": [
    "img_black_background = place_on_black_background(img)\n",
    "display(img_black_background)"
   ]
  },
  {
   "cell_type": "code",
   "execution_count": null,
   "id": "012d4ece-bf1a-46e1-a38c-42ba2ca720c8",
   "metadata": {},
   "outputs": [],
   "source": [
    "def reduce_size(img, factor):\n",
    "    arr = np.array(img)\n",
    "    reduced_arr = arr[3::factor, 3::factor]\n",
    "    return PILImage.fromarray(reduced_arr)"
   ]
  },
  {
   "cell_type": "code",
   "execution_count": null,
   "id": "85aab3bb-05d4-4f4f-bbc4-c7b0edf9ee13",
   "metadata": {},
   "outputs": [],
   "source": [
    "factor = int(round(img.size[0] / (MAZE_PIXELS_AGENT / MAZE_SIZE), 0))\n",
    "img_black_background_agent = reduce_size(img_black_background, factor)\n",
    "display(img_black_background_agent)"
   ]
  },
  {
   "cell_type": "code",
   "execution_count": null,
   "id": "fda5365e-a371-443c-ae84-e21e2686ea3b",
   "metadata": {},
   "outputs": [],
   "source": [
    "folder_out = os.path.join(PATH_OUT, 'black-background')\n",
    "os.makedirs(folder_out, exist_ok=True)\n",
    "path_out = os.path.join(folder_out, objects[i])\n",
    "img_black_background_agent.save(path_out)"
   ]
  },
  {
   "cell_type": "markdown",
   "id": "56c935a9-a7b2-490b-8a5a-9abc9c9b6b25",
   "metadata": {},
   "source": [
    "Do them all:"
   ]
  },
  {
   "cell_type": "code",
   "execution_count": null,
   "id": "a55d7727-f08c-4d35-ae36-8925e398fa0b",
   "metadata": {},
   "outputs": [],
   "source": [
    "for obj in objects:\n",
    "    path = os.path.join(PATH, obj)\n",
    "    img = PILImage.open(path)\n",
    "    img_black_background = place_on_black_background(img)\n",
    "    img_black_background_agent = reduce_size(img_black_background, factor)\n",
    "    path_out = os.path.join(folder_out, obj)\n",
    "    img_black_background_agent.save(path_out)"
   ]
  },
  {
   "cell_type": "markdown",
   "id": "758aef71-9875-424a-9352-dcdb7a9f75b9",
   "metadata": {},
   "source": [
    "## On grey background\n",
    "Placing the objects on grey background and saving them there"
   ]
  },
  {
   "cell_type": "code",
   "execution_count": null,
   "id": "dbe00d82-0170-4b41-bd61-e02dcb731fcc",
   "metadata": {},
   "outputs": [],
   "source": [
    "i = 6\n",
    "path = os.path.join(PATH, objects[i])\n",
    "img = PILImage.open(path)\n",
    "print(img.size)\n",
    "display(img)"
   ]
  },
  {
   "cell_type": "code",
   "execution_count": null,
   "id": "d2ca72e6-d695-40f6-a9ab-587124f93fb7",
   "metadata": {},
   "outputs": [],
   "source": [
    "def place_on_black_background(img):\n",
    "    background = PILImage.new(\"RGBA\", img.size, (127, 127, 127, 255))\n",
    "    if img.mode != 'RGBA':\n",
    "        img = img.convert(\"RGBA\")\n",
    "    background.paste(img, (0, 0), img)\n",
    "    return background"
   ]
  },
  {
   "cell_type": "code",
   "execution_count": null,
   "id": "90f0fbf8-c55e-4eb0-a18c-478d34243ad3",
   "metadata": {},
   "outputs": [],
   "source": [
    "img_black_background = place_on_black_background(img)\n",
    "display(img_black_background)"
   ]
  },
  {
   "cell_type": "code",
   "execution_count": null,
   "id": "3d26758e-dccd-4f0e-950e-ca32e435a5f1",
   "metadata": {},
   "outputs": [],
   "source": [
    "def reduce_size(img, factor):\n",
    "    arr = np.array(img)\n",
    "    reduced_arr = arr[3::factor, 3::factor]\n",
    "    return PILImage.fromarray(reduced_arr)"
   ]
  },
  {
   "cell_type": "code",
   "execution_count": null,
   "id": "bbb4c625-a0dd-4e33-8a53-8d7ff0e7113e",
   "metadata": {},
   "outputs": [],
   "source": [
    "factor = int(round(img.size[0] / (MAZE_PIXELS_AGENT / MAZE_SIZE), 0))\n",
    "img_black_background_agent = reduce_size(img_black_background, factor)\n",
    "display(img_black_background_agent)"
   ]
  },
  {
   "cell_type": "code",
   "execution_count": null,
   "id": "12439cbb-a789-4704-b8b6-487a9373eff1",
   "metadata": {},
   "outputs": [],
   "source": [
    "folder_out = os.path.join(PATH_OUT, 'grey-background')\n",
    "os.makedirs(folder_out, exist_ok=True)\n",
    "path_out = os.path.join(folder_out, objects[i])\n",
    "img_black_background_agent.save(path_out)"
   ]
  },
  {
   "cell_type": "markdown",
   "id": "e424ce93-59e1-423e-9451-37f80a664e28",
   "metadata": {},
   "source": [
    "Do them all:"
   ]
  },
  {
   "cell_type": "code",
   "execution_count": null,
   "id": "5f8b2564-46a4-4656-ac8b-e6d8349ccc62",
   "metadata": {},
   "outputs": [],
   "source": [
    "for obj in objects:\n",
    "    path = os.path.join(PATH, obj)\n",
    "    img = PILImage.open(path)\n",
    "    img_black_background = place_on_black_background(img)\n",
    "    img_black_background_agent = reduce_size(img_black_background, factor)\n",
    "    path_out = os.path.join(folder_out, obj)\n",
    "    img_black_background_agent.save(path_out)"
   ]
  },
  {
   "cell_type": "markdown",
   "id": "df1ff5e1-8b9b-4cd6-9e0c-321fb629f74a",
   "metadata": {},
   "source": [
    "## On textured background\n",
    "Placing the objects on textured background and saving them there"
   ]
  },
  {
   "cell_type": "code",
   "execution_count": null,
   "id": "9b5f9438-3dee-40ce-96ab-94728479744b",
   "metadata": {},
   "outputs": [],
   "source": [
    "i = 6\n",
    "path = os.path.join(PATH, objects[i])\n",
    "img = PILImage.open(path)\n",
    "print(img.size)\n",
    "display(img)"
   ]
  },
  {
   "cell_type": "code",
   "execution_count": null,
   "id": "84a50b74-5986-4948-9b15-94235373fc91",
   "metadata": {},
   "outputs": [],
   "source": [
    "def place_on_texture(img, texture):\n",
    "    texture = texture.crop((0, 0, img.width, img.height))\n",
    "    texture.paste(img, (0, 0), img)\n",
    "    return texture"
   ]
  },
  {
   "cell_type": "code",
   "execution_count": null,
   "id": "f143f14e-b172-45ef-9fc8-381f52afa877",
   "metadata": {},
   "outputs": [],
   "source": [
    "texture = PILImage.open(PATH_BACKGROUND)\n",
    "img_on_texture = place_on_texture(img, texture)\n",
    "display(img_on_texture)"
   ]
  },
  {
   "cell_type": "code",
   "execution_count": null,
   "id": "25f1d162-31f3-49cf-a67d-cc70f604ebe1",
   "metadata": {},
   "outputs": [],
   "source": [
    "factor = int(round(img.size[0] / (MAZE_PIXELS_AGENT / MAZE_SIZE), 0))\n",
    "img_on_texture_agent = reduce_size(img_on_texture, factor)\n",
    "display(img_on_texture_agent)"
   ]
  },
  {
   "cell_type": "code",
   "execution_count": null,
   "id": "7cf950f5-2d4f-407d-b4a4-c12b600de64f",
   "metadata": {},
   "outputs": [],
   "source": [
    "folder_out = os.path.join(PATH_OUT, 'textured-background')\n",
    "os.makedirs(folder_out, exist_ok=True)\n",
    "path_out = os.path.join(folder_out, objects[i])\n",
    "img_black_background_agent.save(path_out)"
   ]
  },
  {
   "cell_type": "markdown",
   "id": "869a94bd-3703-4888-9adb-965fcc323b88",
   "metadata": {},
   "source": [
    "Do them all:"
   ]
  },
  {
   "cell_type": "code",
   "execution_count": null,
   "id": "20ac3524-6897-49ae-a69b-f506a2ac859d",
   "metadata": {},
   "outputs": [],
   "source": [
    "for obj in objects:\n",
    "    path = os.path.join(PATH, obj)\n",
    "    img = PILImage.open(path)\n",
    "    img_on_texture = place_on_texture(img, texture)\n",
    "    img_on_texture_agent = reduce_size(img_on_texture, factor)\n",
    "    path_out = os.path.join(folder_out, obj)\n",
    "    img_on_texture_agent.save(path_out)"
   ]
  }
 ],
 "metadata": {
  "kernelspec": {
   "display_name": "venv-goal-mis",
   "language": "python",
   "name": "venv-goal-mis"
  },
  "language_info": {
   "codemirror_mode": {
    "name": "ipython",
    "version": 3
   },
   "file_extension": ".py",
   "mimetype": "text/x-python",
   "name": "python",
   "nbconvert_exporter": "python",
   "pygments_lexer": "ipython3",
   "version": "3.8.10"
  }
 },
 "nbformat": 4,
 "nbformat_minor": 5
}
